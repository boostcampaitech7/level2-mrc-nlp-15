{
 "cells": [
  {
   "cell_type": "code",
   "execution_count": null,
   "metadata": {},
   "outputs": [],
   "source": [
    "import os\n",
    "import json\n",
    "import torch\n",
    "\n",
    "from transformers import AutoTokenizer, AutoModelForCausalLM\n",
    "from datasets import load_from_disk"
   ]
  },
  {
   "cell_type": "code",
   "execution_count": null,
   "metadata": {},
   "outputs": [],
   "source": [
    "base_dir = \"/\""
   ]
  },
  {
   "cell_type": "code",
   "execution_count": 2,
   "metadata": {},
   "outputs": [],
   "source": [
    "# 데이터셋 로드\n",
    "dataset_dict = load_from_disk(os.path.join(base_dir, \"data\", \"test_dataset\"))\n",
    "\n",
    "# 'test' 데이터셋을 선택하고 Pandas 데이터프레임으로 변환\n",
    "test_dataset = dataset_dict['validation']\n",
    "df = test_dataset.to_pandas()"
   ]
  },
  {
   "cell_type": "code",
   "execution_count": null,
   "metadata": {},
   "outputs": [],
   "source": [
    "model_id = \"rtzr/ko-gemma-2-9b-it\"\n",
    "\n",
    "tokenizer = AutoTokenizer.from_pretrained(model_id)\n",
    "model = AutoModelForCausalLM.from_pretrained(\n",
    "    model_id,\n",
    "    torch_dtype=torch.bfloat16,\n",
    "    device_map=\"auto\",\n",
    ")\n",
    "\n",
    "model.eval()"
   ]
  },
  {
   "cell_type": "code",
   "execution_count": 5,
   "metadata": {},
   "outputs": [],
   "source": [
    "instruction = \"\"\"다음의 '제시 답변'에서 필요한 답만 동일하게 추출하여 제시하시오. 추가적인 정보나 수정 없이, '제시 답변'의 내용을 사용하시오.\n",
    "\n",
    "\n",
    "다음을 반드시 지키시오: 필요시 조사, 어미를 제거할 수 있으나, '제시 답변' 이외의 내용을 생성, 추가하면 절대 안됨. 중요 핵심 내용을 남기고 제거할 수 있다.\n",
    "\n",
    "### 예시 ###\n",
    "질문: 제2차 세계 대전은 몇 년에 발발하였는가?  제시 답변: 1939년 9월 1일에 발발하였다.\n",
    "생성 답변: 1939년\n",
    "\n",
    "### 질문 ###\n",
    "{}\n",
    "\n",
    "### 제시 답변 ###\n",
    "{}\"\"\""
   ]
  },
  {
   "cell_type": "code",
   "execution_count": 6,
   "metadata": {},
   "outputs": [],
   "source": [
    "with open(\"predictions.json\", \"r\") as f:\n",
    "    predictions = json.load(f)"
   ]
  },
  {
   "cell_type": "code",
   "execution_count": null,
   "metadata": {},
   "outputs": [],
   "source": [
    "new_pred = {}\n",
    "\n",
    "for i in range(len(df)):\n",
    "    question = df.loc[i, 'question']\n",
    "\n",
    "    messages = [\n",
    "        {\"role\": \"user\", \"content\": instruction.format(question, predictions[df.loc[i, \"id\"]])},\n",
    "    ]\n",
    "\n",
    "    input_ids = tokenizer.apply_chat_template(\n",
    "        messages,\n",
    "        add_generation_prompt=True,\n",
    "        return_tensors=\"pt\"\n",
    "    ).to(model.device)\n",
    "\n",
    "    terminators = [\n",
    "        tokenizer.eos_token_id,\n",
    "        tokenizer.convert_tokens_to_ids(\"<end_of_turn>\")\n",
    "    ]\n",
    "\n",
    "    outputs = model.generate(\n",
    "        input_ids,\n",
    "        max_new_tokens=2048,\n",
    "        eos_token_id=terminators,\n",
    "        do_sample=True,\n",
    "        temperature=0.1,\n",
    "        top_p=0.9,\n",
    "    )\n",
    "\n",
    "    pred = tokenizer.decode(outputs[0][input_ids.shape[-1]:], skip_special_tokens=True)\n",
    "\n",
    "    new_pred[df.loc[i, \"id\"]] = pred.strip()"
   ]
  },
  {
   "cell_type": "code",
   "execution_count": 13,
   "metadata": {},
   "outputs": [],
   "source": [
    "with open(os.path.join(base_dir, \"data\", \"predictions_fixed.json\"), \"w\") as f:\n",
    "    json.dump(new_pred, f, ensure_ascii=False, indent=4)"
   ]
  }
 ],
 "metadata": {
  "kernelspec": {
   "display_name": "base",
   "language": "python",
   "name": "python3"
  },
  "language_info": {
   "codemirror_mode": {
    "name": "ipython",
    "version": 3
   },
   "file_extension": ".py",
   "mimetype": "text/x-python",
   "name": "python",
   "nbconvert_exporter": "python",
   "pygments_lexer": "ipython3",
   "version": "3.10.13"
  }
 },
 "nbformat": 4,
 "nbformat_minor": 2
}
