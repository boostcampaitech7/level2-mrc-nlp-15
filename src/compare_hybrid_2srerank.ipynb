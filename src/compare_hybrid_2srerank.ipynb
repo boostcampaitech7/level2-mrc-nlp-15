{
 "cells": [
  {
   "cell_type": "code",
   "execution_count": 1,
   "metadata": {},
   "outputs": [],
   "source": [
    "import os\n",
    "import json\n",
    "import pandas as pd\n",
    "from tqdm import tqdm\n",
    "\n",
    "from datasets import (\n",
    "    Dataset,\n",
    "    DatasetDict,\n",
    "    Features,\n",
    "    Value,\n",
    "    Sequence,\n",
    "    load_from_disk,\n",
    "    load_metric\n",
    ")\n",
    "from transformers import AutoTokenizer\n",
    "from retrieval import Retriever"
   ]
  },
  {
   "cell_type": "code",
   "execution_count": 2,
   "metadata": {},
   "outputs": [],
   "source": [
    "datasets = load_from_disk(\"../data/train_dataset\")\n",
    "\n",
    "documents = datasets['train']['context']\n",
    "queries = datasets['train']['question']"
   ]
  },
  {
   "cell_type": "code",
   "execution_count": 3,
   "metadata": {},
   "outputs": [],
   "source": [
    "data_path = \"../data/\"\n",
    "context_path = \"wikipedia_documents.json\"\n",
    "\n",
    "with open(os.path.join(data_path, context_path), \"r\", encoding=\"utf-8\") as f:\n",
    "            wiki = json.load(f)\n",
    "\n",
    "total_contexts = list(dict.fromkeys([v[\"text\"] for v in wiki.values()]))"
   ]
  },
  {
   "cell_type": "code",
   "execution_count": 4,
   "metadata": {},
   "outputs": [],
   "source": [
    "hybrid_topk = [20]\n",
    "rerank_topk = [500]\n",
    "retrievers = ['2s_rerank', 'hybridsearch']\n",
    "result = []"
   ]
  },
  {
   "cell_type": "code",
   "execution_count": 5,
   "metadata": {},
   "outputs": [
    {
     "name": "stderr",
     "output_type": "stream",
     "text": [
      "Retrievers Progress:   0%|          | 0/2 [00:00<?, ?it/s]"
     ]
    },
    {
     "name": "stdout",
     "output_type": "stream",
     "text": [
      "Lengths of unique contexts : 56737\n"
     ]
    },
    {
     "name": "stderr",
     "output_type": "stream",
     "text": []
    },
    {
     "data": {
      "application/vnd.jupyter.widget-view+json": {
       "model_id": "72184012cb334f3ba8c91559373e3426",
       "version_major": 2,
       "version_minor": 0
      },
      "text/plain": [
       "Sparse retrieval:   0%|          | 0/790 [00:00<?, ?it/s]"
      ]
     },
     "metadata": {},
     "output_type": "display_data"
    },
    {
     "name": "stdout",
     "output_type": "stream",
     "text": [
      "Embedding pickle load.\n"
     ]
    }
   ],
   "source": [
    "bmtokenizer = AutoTokenizer.from_pretrained(\"HANTAEK/klue-roberta-large-korquad-v1-qa-finetuned\")\n",
    "\n",
    "data_dict = {'question': queries[:int(len(queries)/5)]}\n",
    "query_dataset = Dataset.from_dict(data_dict)\n",
    "top_k = []\n",
    "total = []\n",
    "for r_name in tqdm(retrievers, desc=\"Retrievers Progress\"):\n",
    "    retriever = Retriever(\n",
    "        tokenize_fn=bmtokenizer.tokenize,\n",
    "        data_path=data_path,\n",
    "        context_path=context_path,\n",
    "        name=r_name\n",
    "    )\n",
    "    acc = []\n",
    "    if r_name == '2s_rerank':\n",
    "        top_k = rerank_topk\n",
    "    else:\n",
    "        top_k = hybrid_topk\n",
    "    for stopk in tqdm(top_k, desc=f\"Top-k Progress for {r_name}\", leave=False):\n",
    "        cnt = 0\n",
    "        contexts = retriever.retrieve(query_dataset, topk=stopk)\n",
    "        \n",
    "        # tqdm을 사용하여 queries 루프를 감싸서 진행 상태를 표시\n",
    "        for idx in tqdm(range(int(len(queries)/5)), desc=f\"Query Progress for {r_name}, Top-k={stopk}\", leave=False):\n",
    "            if documents[idx] == contexts[idx][0]:\n",
    "                cnt += 1\n",
    "\n",
    "        print(cnt / int(len(queries)/5))\n",
    "        acc.append(cnt / int(len(queries)/5))\n",
    "    total.append(acc)"
   ]
  },
  {
   "cell_type": "code",
   "execution_count": null,
   "metadata": {},
   "outputs": [],
   "source": [
    "import matplotlib.pyplot as plt\n",
    "\n",
    "plt.figure(figsize=(10, 6))\n",
    "\n",
    "bar_width = 0.3\n",
    "x = range(len(top_k))\n",
    "\n",
    "plt.bar([p - bar_width/2 for p in x], result[0], width=bar_width, label='Reranker', color='blue')\n",
    "\n",
    "plt.bar([p + bar_width/2 for p in x], result[1], width=bar_width, label='Hybrid Search', color='green')\n",
    "\n",
    "plt.xticks(x, [f\"Top-{k}\" for k in top_k])\n",
    "plt.xlabel('Top-k')\n",
    "plt.ylabel('Accuracy')\n",
    "plt.title('Reranker vs Hybrid Search Performance')\n",
    "plt.legend()\n",
    "plt.grid(axis='y', linestyle='--', alpha=0.7)\n",
    "plt.show()"
   ]
  },
  {
   "cell_type": "code",
   "execution_count": null,
   "metadata": {},
   "outputs": [],
   "source": []
  }
 ],
 "metadata": {
  "kernelspec": {
   "display_name": "base",
   "language": "python",
   "name": "python3"
  },
  "language_info": {
   "codemirror_mode": {
    "name": "ipython",
    "version": 3
   },
   "file_extension": ".py",
   "mimetype": "text/x-python",
   "name": "python",
   "nbconvert_exporter": "python",
   "pygments_lexer": "ipython3",
   "version": "3.10.13"
  }
 },
 "nbformat": 4,
 "nbformat_minor": 2
}
